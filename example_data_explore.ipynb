{
 "cells": [
  {
   "cell_type": "markdown",
   "id": "1d6c0519-5d6c-4e38-987d-d50f37cde111",
   "metadata": {},
   "source": [
    "# Example Notebook on Codesphere"
   ]
  },
  {
   "cell_type": "code",
   "execution_count": null,
   "id": "77e1927a-eaa0-4a9a-813c-9141e7ea3fc4",
   "metadata": {},
   "outputs": [],
   "source": [
    "pip install pandas matplotlib scikit-learn"
   ]
  },
  {
   "cell_type": "code",
   "execution_count": 2,
   "id": "665dd063-0e3d-4320-a47e-e5985c1a7480",
   "metadata": {},
   "outputs": [],
   "source": [
    "import pandas as pd\n",
    "import matplotlib.pyplot as plt\n",
    "from sklearn.datasets import load_iris"
   ]
  },
  {
   "cell_type": "code",
   "execution_count": 3,
   "id": "d949414a-8dc1-41ce-aa11-6075d7ca897a",
   "metadata": {},
   "outputs": [],
   "source": [
    "iris = load_iris()\n",
    "df = pd.DataFrame(iris.data, columns=iris.feature_names)"
   ]
  },
  {
   "cell_type": "code",
   "execution_count": null,
   "id": "a1612d06-913b-48a1-93f4-1efddaf3da39",
   "metadata": {},
   "outputs": [],
   "source": [
    "df.describe()"
   ]
  },
  {
   "cell_type": "markdown",
   "id": "5b932f30-21de-4f46-8cf6-c943f0eb173a",
   "metadata": {},
   "source": [
    "## Plot the data"
   ]
  },
  {
   "cell_type": "code",
   "execution_count": null,
   "id": "9a6f6179-c7f4-4765-99e0-09a2a94d838b",
   "metadata": {},
   "outputs": [],
   "source": [
    "fig, axes = plt.subplots(2, 2, figsize=(10,8))\n",
    "\n",
    "for i, ax in enumerate(axes.ravel()):\n",
    "    ax.hist(df.iloc[:, i], bins=15)\n",
    "    ax.set_xlabel(df.columns[i])\n",
    "    ax.set_ylabel('Frequency')\n",
    "    ax.axvline(df.iloc[:, i].mean(), color='r', linestyle='dashed', linewidth=1)\n",
    "    ax.axvline(df.iloc[:, i].median(), color='g', linestyle='dashed', linewidth=1)\n",
    "    \n",
    "plt.show()"
   ]
  },
  {
   "cell_type": "markdown",
   "id": "34f71098",
   "metadata": {},
   "source": [
    "## Train a small machine learning Model"
   ]
  },
  {
   "cell_type": "code",
   "execution_count": null,
   "id": "afe5cdb7-866e-4231-8047-959203a23a3f",
   "metadata": {},
   "outputs": [],
   "source": [
    "# Split data to train and test set\n",
    "from sklearn.model_selection import train_test_split\n",
    "\n",
    "X_train, X_test, y_train, y_test = train_test_split(df, iris.target, test_size=0.2)\n",
    "\n",
    "# Use KNN as the classifier and fit it with the training data\n",
    "from sklearn.neighbors import KNeighborsClassifier\n",
    "\n",
    "knn = KNeighborsClassifier()\n",
    "knn.fit(X_train, y_train)"
   ]
  },
  {
   "cell_type": "code",
   "execution_count": null,
   "id": "3ef45abf-48c9-4786-a508-fbdd574511ac",
   "metadata": {},
   "outputs": [],
   "source": [
    "# Predict on the test set\n",
    "from sklearn.metrics import accuracy_score\n",
    "\n",
    "y_pred = knn.predict(X_test)\n",
    "accuracy = accuracy_score(y_test, y_pred)\n",
    "print('Accuracy:', accuracy)"
   ]
  },
  {
   "cell_type": "markdown",
   "id": "9294e07f",
   "metadata": {},
   "source": [
    "## Plot the predictions"
   ]
  },
  {
   "cell_type": "code",
   "execution_count": null,
   "id": "d847921d-1c13-4ad3-a76d-ff7656d12b6a",
   "metadata": {},
   "outputs": [],
   "source": [
    "plt.scatter(X_test.iloc[:, 0], X_test.iloc[:, 1], c=y_test, cmap='viridis', label='Ground Truth')\n",
    "\n",
    "# plot predicted values\n",
    "plt.scatter(X_test.iloc[:, 0], X_test.iloc[:, 1], c=y_pred, cmap='viridis', marker='x', label='Predicted')\n",
    "\n",
    "# add plot labels and legend\n",
    "plt.xlabel('sepal length (cm)')\n",
    "plt.ylabel('sepal width (cm)')\n",
    "plt.title('Ground Truth vs Predicted')\n",
    "plt.legend()\n",
    "\n",
    "# display plot\n",
    "plt.show()"
   ]
  }
 ],
 "metadata": {
  "kernelspec": {
   "display_name": "Python 3.11.4 64-bit",
   "language": "python",
   "name": "python3"
  },
  "language_info": {
   "codemirror_mode": {
    "name": "ipython",
    "version": 3
   },
   "file_extension": ".py",
   "mimetype": "text/x-python",
   "name": "python",
   "nbconvert_exporter": "python",
   "pygments_lexer": "ipython3",
   "version": "3.11.4"
  },
  "vscode": {
   "interpreter": {
    "hash": "b0fa6594d8f4cbf19f97940f81e996739fb7646882a419484c72d19e05852a7e"
   }
  }
 },
 "nbformat": 4,
 "nbformat_minor": 5
}
